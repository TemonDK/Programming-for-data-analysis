{
 "cells": [
  {
   "cell_type": "markdown",
   "metadata": {},
   "source": [
    "# Добро пожаловать в самостоятельный проект\n",
    "\n",
    "Самостоятельный проект — это практическая проверка знаний, приобретённых вами на вводном курсе. Каждый раздел посвящён отдельной стадии анализа данных с экскурсом в основы Python. \n",
    "\n",
    "Проект выполняется в пять этапов:\n",
    "\n",
    "•\tПостановка задачи\n",
    "\n",
    "•\tПолучение данных\n",
    "\n",
    "•\tПредобработка данных\n",
    "\n",
    "•\tАнализ данных\n",
    "\n",
    "•\tОформление результатов\n",
    "\n",
    "Для каждой части описаны шаги выполнения c теоретическим приложением. В Jupyter Notebook эти шаги связаны между собой выводами и результатами.\n",
    "\n",
    "**Исследование: Музыка больших городов**\n",
    "\n",
    "Яндекс.Музыка — это крупный продукт с огромным запасом данных для исследований. Команды таких сервисов для поддержания интереса к продукту и привлечения новых пользователей часто проводят исследования про пользователей. Чтобы удержать клиентов и привлечь новых, сделать бренд более узнаваемым, команда сервиса проводит исследования аудитории, и публикует интересные результаты. Например, интересно сравнить тексты, сочинённые нейросетью, с произведениями настоящих рэперов.\n",
    "Есть исследование, которое напоминает наше: о музыкальных предпочтениях в разных городах России.\n",
    "Итак, вопрос вам: как музыка, которая звучит по дороге на работу в понедельник утром, отличается от той, что играет в среду или в конце рабочей недели? Возьмите данные для Москвы и Петербурга. Сравните, что и в каком режиме слушают их жители.\n",
    "\n",
    "План исследования\n",
    "\n",
    "1.\tПолучение данных. Прочитайте данные, ознакомьтесь с ними.\n",
    "\n",
    "2.\tПредобработка данных. Избавьтесь от дубликатов, проблем с названиями столбцов и пропусками.\n",
    "\n",
    "3.\tАнализ данных. Ответьте на основные вопросы исследования, подготовьте отчётную таблицу или опишите полученный результат.\n",
    "\n",
    "4.\tПодведение итогов. Просмотрите выполненную работу и сформулируйте выводы.\n"
   ]
  },
  {
   "cell_type": "markdown",
   "metadata": {},
   "source": [
    "# Этап 1. Получение данных\n",
    "\n",
    "Изучим данные, предоставленные сервисом для проекта.\n",
    "\n",
    "Прочитайте файл music_project.csv и сохраните его в переменной df.\n",
    "\n",
    "Получите  первых 10 строк таблицы, а также общую информацию о данных таблицы df."
   ]
  },
  {
   "cell_type": "code",
   "execution_count": 2,
   "metadata": {},
   "outputs": [
    {
     "name": "stderr",
     "output_type": "stream",
     "text": [
      "<>:3: SyntaxWarning: invalid escape sequence '\\A'\n",
      "<>:3: SyntaxWarning: invalid escape sequence '\\A'\n",
      "C:\\Users\\Temon\\AppData\\Local\\Temp\\ipykernel_1424\\3857443865.py:3: SyntaxWarning: invalid escape sequence '\\A'\n",
      "  df = pd.read_csv(\"C:\\Artem\\Учёба\\Программирование для анализа данных\\Лабораторные работы\\Lab2\\yandex_music.csv\")\n"
     ]
    },
    {
     "name": "stdout",
     "output_type": "stream",
     "text": [
      "<class 'pandas.core.frame.DataFrame'>\n",
      "RangeIndex: 65079 entries, 0 to 65078\n",
      "Data columns (total 7 columns):\n",
      " #   Column    Non-Null Count  Dtype \n",
      "---  ------    --------------  ----- \n",
      " 0     userID  65079 non-null  object\n",
      " 1   Track     63848 non-null  object\n",
      " 2   artist    57876 non-null  object\n",
      " 3   genre     63881 non-null  object\n",
      " 4     City    65079 non-null  object\n",
      " 5   time      65079 non-null  object\n",
      " 6   Day       65079 non-null  object\n",
      "dtypes: object(7)\n",
      "memory usage: 3.5+ MB\n",
      "Список столбцов: ['  userID', 'Track', 'artist', 'genre', '  City  ', 'time', 'Day']\n",
      "Список столбцов: Index(['user_id', 'track_name', 'artist_name', 'genre_name',\n",
      "       'total_play_seconds', 'time', 'day'],\n",
      "      dtype='object')\n",
      "<class 'pandas.core.frame.DataFrame'>\n",
      "RangeIndex: 65079 entries, 0 to 65078\n",
      "Data columns (total 7 columns):\n",
      " #   Column              Non-Null Count  Dtype \n",
      "---  ------              --------------  ----- \n",
      " 0   user_id             65079 non-null  object\n",
      " 1   track_name          63848 non-null  object\n",
      " 2   artist_name         57876 non-null  object\n",
      " 3   genre_name          63881 non-null  object\n",
      " 4   total_play_seconds  65079 non-null  object\n",
      " 5   time                65079 non-null  object\n",
      " 6   day                 65079 non-null  object\n",
      "dtypes: object(7)\n",
      "memory usage: 3.5+ MB\n",
      "Статистика таблицы: None\n",
      "Пропущенные значения: user_id                  0\n",
      "track_name            1231\n",
      "artist_name           7203\n",
      "genre_name            1198\n",
      "total_play_seconds       0\n",
      "time                     0\n",
      "day                      0\n",
      "dtype: int64\n",
      "<class 'pandas.core.frame.DataFrame'>\n",
      "RangeIndex: 65079 entries, 0 to 65078\n",
      "Data columns (total 7 columns):\n",
      " #   Column              Non-Null Count  Dtype \n",
      "---  ------              --------------  ----- \n",
      " 0   user_id             65079 non-null  object\n",
      " 1   track_name          65079 non-null  object\n",
      " 2   artist_name         65079 non-null  object\n",
      " 3   genre_name          63881 non-null  object\n",
      " 4   total_play_seconds  65079 non-null  object\n",
      " 5   time                65079 non-null  object\n",
      " 6   day                 65079 non-null  object\n",
      "dtypes: object(7)\n",
      "memory usage: 3.5+ MB\n",
      "Повторная статистика таблицы: None\n",
      "Размер таблицы: (65079, 7)\n",
      "Кол-во дубликатов: 3826\n",
      "Повторный размер таблицы: (61253, 7)\n",
      "Количетсов слов 'электроника' в столбце genre_name: 0\n",
      "(2029, 7)\n",
      "Index(['user_id', 'track_name', 'artist_name', 'genre_name',\n",
      "       'total_play_seconds', 'time', 'day'],\n",
      "      dtype='object')\n",
      "user_id\n",
      "10004220    3\n",
      "100173ED    1\n",
      "1001CE90    6\n",
      "1002410A    3\n",
      "100261F9    1\n",
      "1004AAE6    1\n",
      "1004C5D8    1\n",
      "1005BECA    1\n",
      "10089377    3\n",
      "100AB021    1\n",
      "100ACFBC    1\n",
      "10101201    2\n",
      "10107FC7    2\n",
      "10112F4C    2\n",
      "1016144E    1\n",
      "1016C39F    2\n",
      "10180175    1\n",
      "101861D1    2\n",
      "10189D10    4\n",
      "101AAA19    1\n",
      "101B046A    2\n",
      "101B53F1    1\n",
      "101BBC61    1\n",
      "101C12A4    2\n",
      "101D714C    1\n",
      "101E910F    1\n",
      "10211433    1\n",
      "10222F55    1\n",
      "1022B77E    1\n",
      "10246DCB    2\n",
      "Name: genre_name, dtype: int64\n",
      "Идентификатор пользователя, который слушает больше 50 песен: 7D166C63\n",
      "        user_id track_name artist_name  genre_name total_play_seconds  \\\n",
      "274    7D166C63    unknown     unknown        jazz   Saint-Petersburg   \n",
      "2370   7D166C63    unknown     unknown         pop   Saint-Petersburg   \n",
      "2555   7D166C63    unknown     unknown     country   Saint-Petersburg   \n",
      "3085   7D166C63    unknown     unknown    schlager   Saint-Petersburg   \n",
      "4319   7D166C63    unknown     unknown        jazz   Saint-Petersburg   \n",
      "5647   7D166C63    unknown     unknown         pop   Saint-Petersburg   \n",
      "6462   7D166C63    unknown     unknown         pop   Saint-Petersburg   \n",
      "7143   7D166C63    unknown     unknown         pop   Saint-Petersburg   \n",
      "8323   7D166C63    unknown     unknown         pop   Saint-Petersburg   \n",
      "8830   7D166C63    unknown     unknown        jazz   Saint-Petersburg   \n",
      "9320   7D166C63    unknown     unknown        rock   Saint-Petersburg   \n",
      "11682  7D166C63    unknown     unknown         pop   Saint-Petersburg   \n",
      "13425  7D166C63    unknown     unknown        rock   Saint-Petersburg   \n",
      "14686  7D166C63    unknown     unknown         pop   Saint-Petersburg   \n",
      "15796  7D166C63    unknown     unknown    schlager   Saint-Petersburg   \n",
      "16131  7D166C63    unknown     unknown   classical   Saint-Petersburg   \n",
      "18125  7D166C63    unknown     unknown        jazz   Saint-Petersburg   \n",
      "18238  7D166C63    unknown     unknown        jazz   Saint-Petersburg   \n",
      "18610  7D166C63    unknown     unknown    schlager   Saint-Petersburg   \n",
      "18851  7D166C63    unknown     unknown         pop   Saint-Petersburg   \n",
      "18862  7D166C63    unknown     unknown         pop   Saint-Petersburg   \n",
      "19446  7D166C63    unknown     unknown         pop   Saint-Petersburg   \n",
      "19594  7D166C63    unknown     unknown        jazz   Saint-Petersburg   \n",
      "19865  7D166C63    unknown     unknown        rock   Saint-Petersburg   \n",
      "21503  7D166C63    unknown     unknown    schlager   Saint-Petersburg   \n",
      "23863  7D166C63    unknown     unknown         rnb   Saint-Petersburg   \n",
      "25303  7D166C63    unknown     unknown        jazz   Saint-Petersburg   \n",
      "27083  7D166C63    unknown     unknown  soundtrack   Saint-Petersburg   \n",
      "27224  7D166C63    unknown     unknown      reggae   Saint-Petersburg   \n",
      "30022  7D166C63    unknown     unknown      ghazal   Saint-Petersburg   \n",
      "30571  7D166C63    unknown     unknown    schlager   Saint-Petersburg   \n",
      "31150  7D166C63    unknown     unknown        rock   Saint-Petersburg   \n",
      "34979  7D166C63    unknown     unknown       dance   Saint-Petersburg   \n",
      "36547  7D166C63    unknown     unknown       dance   Saint-Petersburg   \n",
      "36927  7D166C63    unknown     unknown        jazz   Saint-Petersburg   \n",
      "38800  7D166C63    unknown     unknown         pop   Saint-Petersburg   \n",
      "41058  7D166C63    unknown     unknown        jazz   Saint-Petersburg   \n",
      "41776  7D166C63    unknown     unknown        jazz   Saint-Petersburg   \n",
      "43953  7D166C63    unknown     unknown         pop   Saint-Petersburg   \n",
      "44469  7D166C63    unknown     unknown         pop   Saint-Petersburg   \n",
      "45635  7D166C63    unknown     unknown        jazz   Saint-Petersburg   \n",
      "46982  7D166C63    unknown     unknown        jazz   Saint-Petersburg   \n",
      "49040  7D166C63    unknown     unknown         hip   Saint-Petersburg   \n",
      "49994  7D166C63    unknown     unknown        jazz   Saint-Petersburg   \n",
      "51834  7D166C63    unknown     unknown        folk   Saint-Petersburg   \n",
      "53342  7D166C63    unknown     unknown    folkrock   Saint-Petersburg   \n",
      "53986  7D166C63    unknown     unknown        jazz   Saint-Petersburg   \n",
      "54687  7D166C63    unknown     unknown        punk   Saint-Petersburg   \n",
      "56152  7D166C63    unknown     unknown        jazz   Saint-Petersburg   \n",
      "58127  7D166C63    unknown     unknown        jazz   Saint-Petersburg   \n",
      "58901  7D166C63    unknown     unknown      reggae   Saint-Petersburg   \n",
      "\n",
      "           time        day  \n",
      "274    20:29:53  Wednesday  \n",
      "2370   20:34:44  Wednesday  \n",
      "2555   08:39:24     Monday  \n",
      "3085   08:42:55  Wednesday  \n",
      "4319   14:23:27     Monday  \n",
      "5647   08:46:51     Monday  \n",
      "6462   14:23:30     Monday  \n",
      "7143   08:25:33  Wednesday  \n",
      "8323   14:22:43     Monday  \n",
      "8830   14:16:10     Monday  \n",
      "9320   14:12:02     Monday  \n",
      "11682  09:04:15     Monday  \n",
      "13425  14:23:43     Monday  \n",
      "14686  20:30:23  Wednesday  \n",
      "15796  08:39:38  Wednesday  \n",
      "16131  20:26:32  Wednesday  \n",
      "18125  14:23:06     Monday  \n",
      "18238  08:39:39  Wednesday  \n",
      "18610  14:13:54     Monday  \n",
      "18851  14:10:05     Monday  \n",
      "18862  14:34:24     Monday  \n",
      "19446  08:39:48     Monday  \n",
      "19594  14:09:57     Monday  \n",
      "19865  08:35:58  Wednesday  \n",
      "21503  09:04:19     Monday  \n",
      "23863  08:32:10  Wednesday  \n",
      "25303  08:35:38  Wednesday  \n",
      "27083  14:09:56     Monday  \n",
      "27224  08:46:55     Monday  \n",
      "30022  08:32:18  Wednesday  \n",
      "30571  08:35:45  Wednesday  \n",
      "31150  08:56:30     Monday  \n",
      "34979  14:11:56     Monday  \n",
      "36547  14:23:32     Monday  \n",
      "36927  08:47:08     Monday  \n",
      "38800  14:23:01     Monday  \n",
      "41058  14:06:29     Monday  \n",
      "41776  14:12:40     Monday  \n",
      "43953  20:16:38  Wednesday  \n",
      "44469  14:09:37     Monday  \n",
      "45635  20:29:59  Wednesday  \n",
      "46982  08:56:35     Monday  \n",
      "49040  20:29:56  Wednesday  \n",
      "49994  08:42:54  Wednesday  \n",
      "51834  13:52:18     Monday  \n",
      "53342  14:29:08     Monday  \n",
      "53986  08:47:03     Monday  \n",
      "54687  13:52:12     Monday  \n",
      "56152  14:28:36     Monday  \n",
      "58127  20:30:15  Wednesday  \n",
      "58901  09:04:14     Monday  \n",
      "genre_name\n",
      "classical                                      Saint-Petersburg\n",
      "country                                        Saint-Petersburg\n",
      "dance                          Saint-PetersburgSaint-Petersburg\n",
      "folk                                           Saint-Petersburg\n",
      "folkrock                                       Saint-Petersburg\n",
      "ghazal                                         Saint-Petersburg\n",
      "hip                                            Saint-Petersburg\n",
      "jazz          Saint-PetersburgSaint-PetersburgSaint-Petersbu...\n",
      "pop           Saint-PetersburgSaint-PetersburgSaint-Petersbu...\n",
      "punk                                           Saint-Petersburg\n",
      "reggae                         Saint-PetersburgSaint-Petersburg\n",
      "rnb                                            Saint-Petersburg\n",
      "rock          Saint-PetersburgSaint-PetersburgSaint-Petersbu...\n",
      "schlager      Saint-PetersburgSaint-PetersburgSaint-Petersbu...\n",
      "soundtrack                                     Saint-Petersburg\n",
      "Name: total_play_seconds, dtype: object\n",
      "genre_name\n",
      "classical      1\n",
      "country        1\n",
      "dance          2\n",
      "folk           1\n",
      "folkrock       1\n",
      "ghazal         1\n",
      "hip            1\n",
      "jazz          16\n",
      "pop           13\n",
      "punk           1\n",
      "reggae         2\n",
      "rnb            1\n",
      "rock           4\n",
      "schlager       5\n",
      "soundtrack     1\n",
      "Name: genre_name, dtype: int64\n",
      "genre_name\n",
      "jazz          Saint-PetersburgSaint-PetersburgSaint-Petersbu...\n",
      "pop           Saint-PetersburgSaint-PetersburgSaint-Petersbu...\n",
      "schlager      Saint-PetersburgSaint-PetersburgSaint-Petersbu...\n",
      "rock          Saint-PetersburgSaint-PetersburgSaint-Petersbu...\n",
      "dance                          Saint-PetersburgSaint-Petersburg\n",
      "reggae                         Saint-PetersburgSaint-Petersburg\n",
      "classical                                      Saint-Petersburg\n",
      "country                                        Saint-Petersburg\n",
      "folk                                           Saint-Petersburg\n",
      "folkrock                                       Saint-Petersburg\n",
      "ghazal                                         Saint-Petersburg\n",
      "hip                                            Saint-Petersburg\n",
      "punk                                           Saint-Petersburg\n",
      "rnb                                            Saint-Petersburg\n",
      "soundtrack                                     Saint-Petersburg\n",
      "Name: total_play_seconds, dtype: object\n",
      "genre_name\n",
      "jazz          16\n",
      "pop           13\n",
      "schlager       5\n",
      "rock           4\n",
      "dance          2\n",
      "reggae         2\n",
      "classical      1\n",
      "country        1\n",
      "folk           1\n",
      "folkrock       1\n",
      "ghazal         1\n",
      "hip            1\n",
      "punk           1\n",
      "rnb            1\n",
      "soundtrack     1\n",
      "Name: genre_name, dtype: int64\n"
     ]
    }
   ],
   "source": [
    "# Повторение кода с яндекс музыкой из прошлой лабы\n",
    "import pandas as pd\n",
    "df = pd.read_csv(\"C:\\Artem\\Учёба\\Программирование для анализа данных\\Лабораторные работы\\Lab2\\yandex_music.csv\")\n",
    "df.info()\n",
    "# 1 выводим список столбцов\n",
    "column_names = df.columns.tolist()\n",
    "print(f\"Список столбцов: {column_names}\")\n",
    "# 2 Список столбцов с новыми именами\n",
    "new_names = ['user_id','track_name','artist_name','genre_name','total_play_seconds', 'time', 'day']\n",
    "# 3 Переименование\n",
    "df = df.set_axis(new_names, axis = 'columns')\n",
    "# 4 Проверка\n",
    "print(f\"Список столбцов: {df.columns}\")\n",
    "# 1 Статистика таблицы\n",
    "print(f\"Статистика таблицы: {df.info()}\")\n",
    "# 2 Пропущенные значения \n",
    "print(f\"Пропущенные значения: {df.isna().sum()}\")\n",
    "# 3 Замена пропущенных значений столбца на строку \n",
    "# fillna - делает замену; inplace=True - делает замену в самой таблицы без копии\n",
    "df['track_name'] = df['track_name'].fillna('unknown')\n",
    "# 4 Замена пропущенных значений\n",
    "df['artist_name'] = df['artist_name'].fillna('unknown')\n",
    "# 5 Удаление пропущенных значений\n",
    "df.dropna(subset=['genre_name'])\n",
    "# 6\n",
    "print(f\"Повторная статистика таблицы: {df.info()}\")\n",
    "# 1 Узнаём размер таблицы\n",
    "shape_table = df.shape\n",
    "print(f\"Размер таблицы: {shape_table}\")\n",
    "# 2 Узнаём кол-во дубликатов\n",
    "print(f\"Кол-во дубликатов: {df.duplicated().sum()}\")\n",
    "# 3 Удаляем дубликаты и сбрасываем индексы \n",
    "# drop=True - оригинальный индекс будет удален и создан новый целочисленный индекс.\n",
    "df.drop_duplicates(inplace=True)\n",
    "df.reset_index(drop=True, inplace=True)\n",
    "# 4 Проверяем результаты\n",
    "shape_table_update = df.shape\n",
    "print(f\"Повторный размер таблицы: {shape_table_update}\")\n",
    "# 5 Сравнение\n",
    "if shape_table == shape_table_update:\n",
    "    print(f\"Размер таблицы не изменился, текущий размер: {shape_table_update}\")\n",
    "# 6 Получение уникальных значений\n",
    "df['genre_name'].unique()\n",
    "# 7 Замена\n",
    "df['genre_name'] = df['genre_name'].replace('электроника', 'electronic')\n",
    "# 8 Проверка\n",
    "k = 0\n",
    "for i in df['genre_name']:\n",
    "    if i == 'электроника':\n",
    "        k+=1\n",
    "genre_final_count = k\n",
    "print(f\"Количетсов слов 'электроника' в столбце genre_name: {genre_final_count}\")\n",
    "result = df.loc[(df['genre_name'] == \"rock\") & (df['day'] == \"Monday\")]\n",
    "print(result.shape)\n",
    "result.head(10)\n",
    "print(df.columns)\n",
    "# 1 Группировка DataFrame по столбцу\n",
    "genre_grouping = df.groupby(\"user_id\")\n",
    "# Подсчёт жанров, которые выбрали пользователи\n",
    "genre_counting = genre_grouping['genre_name'].count()\n",
    "print(genre_counting.head(30))\n",
    "# 2 Создаём функцию\n",
    "def user_genres(group):\n",
    "    # group_name - пользователь; group_values - кол-во музыки\n",
    "    for group_name, group_values in group:\n",
    "        if len(group_values) > 50:\n",
    "            # Выводит пользователя, если прослушенной музыки >50\n",
    "            return group_name\n",
    "    # В противном случае выводит None\n",
    "    return None\n",
    "# 3 Ищем нужного пользователя\n",
    "search_id = user_genres(genre_grouping)\n",
    "print(f\"Идентификатор пользователя, который слушает больше 50 песен: {search_id}\")\n",
    "# 1 Получаем таблицу с прослушанными треками для пользователя\n",
    "music_user = df[(df['user_id']==search_id) & (df['total_play_seconds']!=0)]\n",
    "print(music_user)\n",
    "# 2 Узнаём, сколько времени он слушал музыку\n",
    "sum_music_user = music_user.groupby('genre_name')['total_play_seconds'].sum()\n",
    "print(sum_music_user)\n",
    "# 3 Узнаём кол-во нужных треков\n",
    "count_music_user = music_user.groupby('genre_name')['genre_name'].count()\n",
    "print(count_music_user)\n",
    "# 4 Сортировка значений\n",
    "final_sum = sum_music_user.sort_values(ascending=False)\n",
    "print(final_sum)\n",
    "# 5 Ещё одна сортировка\n",
    "final_count = count_music_user.sort_values(ascending=False)\n",
    "print(final_count)"
   ]
  },
  {
   "cell_type": "code",
   "execution_count": 67,
   "metadata": {},
   "outputs": [
    {
     "data": {
      "text/html": [
       "<div>\n",
       "<style scoped>\n",
       "    .dataframe tbody tr th:only-of-type {\n",
       "        vertical-align: middle;\n",
       "    }\n",
       "\n",
       "    .dataframe tbody tr th {\n",
       "        vertical-align: top;\n",
       "    }\n",
       "\n",
       "    .dataframe thead th {\n",
       "        text-align: right;\n",
       "    }\n",
       "</style>\n",
       "<table border=\"1\" class=\"dataframe\">\n",
       "  <thead>\n",
       "    <tr style=\"text-align: right;\">\n",
       "      <th></th>\n",
       "      <th>user_id</th>\n",
       "      <th>track_name</th>\n",
       "      <th>artist_name</th>\n",
       "      <th>genre_name</th>\n",
       "      <th>total_play_seconds</th>\n",
       "      <th>time</th>\n",
       "      <th>day</th>\n",
       "    </tr>\n",
       "  </thead>\n",
       "  <tbody>\n",
       "    <tr>\n",
       "      <th>0</th>\n",
       "      <td>FFB692EC</td>\n",
       "      <td>Kamigata To Boots</td>\n",
       "      <td>The Mass Missile</td>\n",
       "      <td>rock</td>\n",
       "      <td>Saint-Petersburg</td>\n",
       "      <td>20:28:33</td>\n",
       "      <td>Wednesday</td>\n",
       "    </tr>\n",
       "    <tr>\n",
       "      <th>1</th>\n",
       "      <td>55204538</td>\n",
       "      <td>Delayed Because of Accident</td>\n",
       "      <td>Andreas Rönnberg</td>\n",
       "      <td>rock</td>\n",
       "      <td>Moscow</td>\n",
       "      <td>14:07:09</td>\n",
       "      <td>Friday</td>\n",
       "    </tr>\n",
       "    <tr>\n",
       "      <th>2</th>\n",
       "      <td>20EC38</td>\n",
       "      <td>Funiculì funiculà</td>\n",
       "      <td>Mario Lanza</td>\n",
       "      <td>pop</td>\n",
       "      <td>Saint-Petersburg</td>\n",
       "      <td>20:58:07</td>\n",
       "      <td>Wednesday</td>\n",
       "    </tr>\n",
       "    <tr>\n",
       "      <th>3</th>\n",
       "      <td>A3DD03C9</td>\n",
       "      <td>Dragons in the Sunset</td>\n",
       "      <td>Fire + Ice</td>\n",
       "      <td>folk</td>\n",
       "      <td>Saint-Petersburg</td>\n",
       "      <td>08:37:09</td>\n",
       "      <td>Monday</td>\n",
       "    </tr>\n",
       "    <tr>\n",
       "      <th>4</th>\n",
       "      <td>E2DC1FAE</td>\n",
       "      <td>Soul People</td>\n",
       "      <td>Space Echo</td>\n",
       "      <td>dance</td>\n",
       "      <td>Moscow</td>\n",
       "      <td>08:34:34</td>\n",
       "      <td>Monday</td>\n",
       "    </tr>\n",
       "    <tr>\n",
       "      <th>5</th>\n",
       "      <td>842029A1</td>\n",
       "      <td>Преданная</td>\n",
       "      <td>IMPERVTOR</td>\n",
       "      <td>rusrap</td>\n",
       "      <td>Saint-Petersburg</td>\n",
       "      <td>13:09:41</td>\n",
       "      <td>Friday</td>\n",
       "    </tr>\n",
       "    <tr>\n",
       "      <th>6</th>\n",
       "      <td>4CB90AA5</td>\n",
       "      <td>True</td>\n",
       "      <td>Roman Messer</td>\n",
       "      <td>dance</td>\n",
       "      <td>Moscow</td>\n",
       "      <td>13:00:07</td>\n",
       "      <td>Wednesday</td>\n",
       "    </tr>\n",
       "    <tr>\n",
       "      <th>7</th>\n",
       "      <td>F03E1C1F</td>\n",
       "      <td>Feeling This Way</td>\n",
       "      <td>Polina Griffith</td>\n",
       "      <td>dance</td>\n",
       "      <td>Moscow</td>\n",
       "      <td>20:47:49</td>\n",
       "      <td>Wednesday</td>\n",
       "    </tr>\n",
       "    <tr>\n",
       "      <th>8</th>\n",
       "      <td>8FA1D3BE</td>\n",
       "      <td>И вновь продолжается бой</td>\n",
       "      <td>unknown</td>\n",
       "      <td>ruspop</td>\n",
       "      <td>Moscow</td>\n",
       "      <td>09:17:40</td>\n",
       "      <td>Friday</td>\n",
       "    </tr>\n",
       "    <tr>\n",
       "      <th>9</th>\n",
       "      <td>E772D5C0</td>\n",
       "      <td>Pessimist</td>\n",
       "      <td>unknown</td>\n",
       "      <td>dance</td>\n",
       "      <td>Saint-Petersburg</td>\n",
       "      <td>21:20:49</td>\n",
       "      <td>Wednesday</td>\n",
       "    </tr>\n",
       "  </tbody>\n",
       "</table>\n",
       "</div>"
      ],
      "text/plain": [
       "    user_id                   track_name       artist_name genre_name  \\\n",
       "0  FFB692EC            Kamigata To Boots  The Mass Missile       rock   \n",
       "1  55204538  Delayed Because of Accident  Andreas Rönnberg       rock   \n",
       "2    20EC38            Funiculì funiculà       Mario Lanza        pop   \n",
       "3  A3DD03C9        Dragons in the Sunset        Fire + Ice       folk   \n",
       "4  E2DC1FAE                  Soul People        Space Echo      dance   \n",
       "5  842029A1                    Преданная         IMPERVTOR     rusrap   \n",
       "6  4CB90AA5                         True      Roman Messer      dance   \n",
       "7  F03E1C1F             Feeling This Way   Polina Griffith      dance   \n",
       "8  8FA1D3BE     И вновь продолжается бой           unknown     ruspop   \n",
       "9  E772D5C0                    Pessimist           unknown      dance   \n",
       "\n",
       "  total_play_seconds      time        day  \n",
       "0   Saint-Petersburg  20:28:33  Wednesday  \n",
       "1             Moscow  14:07:09     Friday  \n",
       "2   Saint-Petersburg  20:58:07  Wednesday  \n",
       "3   Saint-Petersburg  08:37:09     Monday  \n",
       "4             Moscow  08:34:34     Monday  \n",
       "5   Saint-Petersburg  13:09:41     Friday  \n",
       "6             Moscow  13:00:07  Wednesday  \n",
       "7             Moscow  20:47:49  Wednesday  \n",
       "8             Moscow  09:17:40     Friday  \n",
       "9   Saint-Petersburg  21:20:49  Wednesday  "
      ]
     },
     "execution_count": 67,
     "metadata": {},
     "output_type": "execute_result"
    }
   ],
   "source": [
    "# 1 Получение первых 10 строк \n",
    "df.head(10)"
   ]
  },
  {
   "cell_type": "markdown",
   "metadata": {},
   "source": [
    "Рассмотрим полученную информацию подробнее.\n",
    "Всего в таблице 7 столбцов, тип данных у каждого столбца - строка.\n",
    "Подробно разберём, какие в df столбцы и какую информацию они содержат:\n",
    "•\tuserID — идентификатор пользователя;\n",
    "•\tTrack — название трека;\n",
    "•\tartist — имя исполнителя;\n",
    "•\tgenre — название жанра;\n",
    "•\tCity — город, в котором происходило прослушивание;\n",
    "•\ttime — время, в которое пользователь слушал трек;\n",
    "•\tDay — день недели.\n",
    "Количество значений в столбцах различается. Это говорит о том, что в данных есть пропущенные значения.\n"
   ]
  },
  {
   "cell_type": "markdown",
   "metadata": {},
   "source": [
    "## Выводы: \n",
    "\n",
    "Каждая строка таблицы содержит информацию о композициях определённого жанра в определённом исполнении, которые пользователи слушали в одном из городов в определённое время и день недели. Две проблемы, которые нужно решать: пропуски и некачественные названия столбцов. Для проверки рабочих гипотез особенно ценны столбцы (*вставьте сюда названия столбцов, наиболее существенных, на ва взгляд*. Данные из столбца *название столбца*  позволят узнать самые популярные жанры."
   ]
  },
  {
   "cell_type": "markdown",
   "metadata": {},
   "source": [
    "# Этап 2. Предобработка данных\n",
    "\n",
    "Исключим пропуски, переименуем столбцы, а также проверим данные на наличие дубликатов.\n",
    "\n",
    "Получаем перечень названий столбцов. Какая наблюдается проблема — кроме тех, что уже были названы ранее?\n"
   ]
  },
  {
   "cell_type": "code",
   "execution_count": 68,
   "metadata": {},
   "outputs": [
    {
     "data": {
      "text/plain": [
       "Index(['user_id', 'track_name', 'artist_name', 'genre_name',\n",
       "       'total_play_seconds', 'time', 'day'],\n",
       "      dtype='object')"
      ]
     },
     "execution_count": 68,
     "metadata": {},
     "output_type": "execute_result"
    }
   ],
   "source": [
    "# <перечень названий столбцов таблицы df>\n",
    "df.columns"
   ]
  },
  {
   "cell_type": "markdown",
   "metadata": {},
   "source": [
    "В названиях столбцов есть пробелы, которые могут затруднять доступ к данным.\n",
    "\n",
    "Переименуем столбцы для удобства дальнейшей работы. Проверим результат.\n"
   ]
  },
  {
   "cell_type": "code",
   "execution_count": 69,
   "metadata": {},
   "outputs": [
    {
     "name": "stdout",
     "output_type": "stream",
     "text": [
      "Список столбцов: Index(['user_id', 'track_name', 'artist_name', 'genre_name',\n",
      "       'total_play_seconds', 'time', 'day'],\n",
      "      dtype='object')\n"
     ]
    }
   ],
   "source": [
    "# <переименование столбцов>\n",
    "# <проверка результатов - перечень названий столбцов>\n",
    "# 2 Список столбцов с новыми именами\n",
    "new_names = ['user_id','track_name','artist_name','genre_name','total_play_seconds', 'time', 'day']\n",
    "# 3 Переименование\n",
    "df = df.set_axis(new_names, axis = 'columns')\n",
    "# 4 Проверка\n",
    "print(f\"Список столбцов: {df.columns}\")"
   ]
  },
  {
   "cell_type": "markdown",
   "metadata": {},
   "source": [
    "Проверим данные на наличие пропусков вызовом набора методов для суммирования пропущенных значений."
   ]
  },
  {
   "cell_type": "code",
   "execution_count": 70,
   "metadata": {},
   "outputs": [
    {
     "name": "stdout",
     "output_type": "stream",
     "text": [
      "1127\n"
     ]
    }
   ],
   "source": [
    "# <суммарное количество пропусков, выявленных методом isnull() в таблице df>\n",
    "print(df.isnull().sum())"
   ]
  },
  {
   "cell_type": "markdown",
   "metadata": {},
   "source": [
    "Пустые значения свидетельствуют, что для некоторых треков доступна не вся информация. Причины могут быть разные: скажем, не назван конкретный исполнитель народной песни. Хуже, если проблемы с записью данных. Каждый отдельный случай необходимо разобрать и выявить причину.\n",
    "\n",
    "Заменяем пропущенные значения в столбцах с названием трека и исполнителя на строку 'unknown'. После этой операции нужно убедиться, что таблица больше не содержит пропусков.\n"
   ]
  },
  {
   "cell_type": "code",
   "execution_count": 71,
   "metadata": {},
   "outputs": [],
   "source": [
    "# <замена пропущенных значений в столбце 'track_name' на строку 'unknown' специальным методом замены>\n",
    "# <замена пропущенных значений в столбце 'artist_name' на строку 'unknown' специальным методом замены>\n",
    "# 3 Замена пропущенных значений столбца на строку \n",
    "# fillna - делает замену; inplace=True - делает замену в самой таблицы без копии\n",
    "df['track_name'] = df['track_name'].fillna('unknown')\n",
    "# 4 Замена пропущенных значений\n",
    "df['artist_name'] = df['artist_name'].fillna('unknown')"
   ]
  },
  {
   "cell_type": "code",
   "execution_count": 72,
   "metadata": {},
   "outputs": [
    {
     "name": "stdout",
     "output_type": "stream",
     "text": [
      "user_id                  0\n",
      "track_name               0\n",
      "artist_name              0\n",
      "genre_name            1127\n",
      "total_play_seconds       0\n",
      "time                     0\n",
      "day                      0\n",
      "dtype: int64\n"
     ]
    }
   ],
   "source": [
    "# <проверка: вычисление суммарного количества пропусков, выявленных в таблице df>\n",
    "print(df.isnull().sum())  "
   ]
  },
  {
   "cell_type": "markdown",
   "metadata": {},
   "source": [
    "Удаляем в столбце с жанрами пустые значения; убеждаемся, что их больше не осталось."
   ]
  },
  {
   "cell_type": "code",
   "execution_count": 73,
   "metadata": {},
   "outputs": [
    {
     "name": "stdout",
     "output_type": "stream",
     "text": [
      "<class 'pandas.core.frame.DataFrame'>\n",
      "RangeIndex: 61253 entries, 0 to 61252\n",
      "Data columns (total 7 columns):\n",
      " #   Column              Non-Null Count  Dtype \n",
      "---  ------              --------------  ----- \n",
      " 0   user_id             61253 non-null  object\n",
      " 1   track_name          61253 non-null  object\n",
      " 2   artist_name         61253 non-null  object\n",
      " 3   genre_name          60126 non-null  object\n",
      " 4   total_play_seconds  61253 non-null  object\n",
      " 5   time                61253 non-null  object\n",
      " 6   day                 61253 non-null  object\n",
      "dtypes: object(7)\n",
      "memory usage: 3.3+ MB\n",
      "Повторная статистика таблицы: None\n"
     ]
    }
   ],
   "source": [
    "# <удаление пропущенных значений в столбце 'genre_name'>\n",
    "# <проверка>\n",
    "# 5 Удаление пропущенных значений\n",
    "df.dropna(subset=['genre_name'])\n",
    "# 6\n",
    "print(f\"Повторная статистика таблицы: {df.info()}\")"
   ]
  },
  {
   "cell_type": "markdown",
   "metadata": {},
   "source": [
    "Необходимо установить наличие дубликатов. Если найдутся, удаляем, и проверяем, все ли удалились."
   ]
  },
  {
   "cell_type": "code",
   "execution_count": 74,
   "metadata": {},
   "outputs": [
    {
     "name": "stdout",
     "output_type": "stream",
     "text": [
      "Кол-во дубликатов: 0\n"
     ]
    }
   ],
   "source": [
    "# <получение суммарного количества дубликатов в таблице df>\n",
    "# <удаление всех дубликатов из таблицы df специальным методом>\n",
    "# <проверка на отсутствие>\n",
    "# 2 Узнаём кол-во дубликатов\n",
    "print(f\"Кол-во дубликатов: {df.duplicated().sum()}\")\n",
    "# 3 Удаляем дубликаты и сбрасываем индексы \n",
    "# drop=True - оригинальный индекс будет удален и создан новый целочисленный индекс.\n",
    "df.drop_duplicates(inplace=True)\n",
    "df.reset_index(drop=True, inplace=True)\n",
    "# 4 Проверяем результаты\n",
    "shape_table_update = df.shape"
   ]
  },
  {
   "cell_type": "markdown",
   "metadata": {},
   "source": [
    "Дубликаты могли появиться вследствие сбоя в записи данных. Стоит обратить внимание и разобраться с причинами появления такого «информационного мусора».\n",
    "\n",
    "Сохраняем список уникальных значений столбца с жанрами в переменной genres_list.\n",
    "\n",
    "Объявим функцию find_genre() для поиска неявных дубликатов в столбце с жанрами. Например, когда название одного и того же жанра написано разными словами.\n"
   ]
  },
  {
   "cell_type": "code",
   "execution_count": 75,
   "metadata": {},
   "outputs": [
    {
     "data": {
      "text/plain": [
       "['rock',\n",
       " 'pop',\n",
       " 'folk',\n",
       " 'dance',\n",
       " 'rusrap',\n",
       " 'ruspop',\n",
       " 'world',\n",
       " 'electronic',\n",
       " nan,\n",
       " 'alternative',\n",
       " 'children',\n",
       " 'rnb',\n",
       " 'hip',\n",
       " 'jazz',\n",
       " 'postrock',\n",
       " 'latin',\n",
       " 'classical',\n",
       " 'metal',\n",
       " 'reggae',\n",
       " 'tatar',\n",
       " 'blues',\n",
       " 'instrumental',\n",
       " 'rusrock',\n",
       " 'dnb',\n",
       " 'türk',\n",
       " 'post',\n",
       " 'country',\n",
       " 'psychedelic',\n",
       " 'conjazz',\n",
       " 'indie',\n",
       " 'posthardcore',\n",
       " 'local',\n",
       " 'avantgarde',\n",
       " 'punk',\n",
       " 'videogame',\n",
       " 'techno',\n",
       " 'house',\n",
       " 'christmas',\n",
       " 'melodic',\n",
       " 'caucasian',\n",
       " 'reggaeton',\n",
       " 'soundtrack',\n",
       " 'singer',\n",
       " 'ska',\n",
       " 'shanson',\n",
       " 'ambient',\n",
       " 'film',\n",
       " 'western',\n",
       " 'rap',\n",
       " 'beats',\n",
       " \"hard'n'heavy\",\n",
       " 'progmetal',\n",
       " 'minimal',\n",
       " 'contemporary',\n",
       " 'new',\n",
       " 'soul',\n",
       " 'holiday',\n",
       " 'german',\n",
       " 'tropical',\n",
       " 'fairytail',\n",
       " 'spiritual',\n",
       " 'urban',\n",
       " 'gospel',\n",
       " 'nujazz',\n",
       " 'folkmetal',\n",
       " 'trance',\n",
       " 'miscellaneous',\n",
       " 'anime',\n",
       " 'hardcore',\n",
       " 'progressive',\n",
       " 'chanson',\n",
       " 'numetal',\n",
       " 'vocal',\n",
       " 'estrada',\n",
       " 'russian',\n",
       " 'classicmetal',\n",
       " 'dubstep',\n",
       " 'club',\n",
       " 'deep',\n",
       " 'southern',\n",
       " 'black',\n",
       " 'folkrock',\n",
       " 'fitness',\n",
       " 'french',\n",
       " 'disco',\n",
       " 'religious',\n",
       " 'hiphop',\n",
       " 'drum',\n",
       " 'extrememetal',\n",
       " 'türkçe',\n",
       " 'experimental',\n",
       " 'easy',\n",
       " 'metalcore',\n",
       " 'modern',\n",
       " 'argentinetango',\n",
       " 'old',\n",
       " 'breaks',\n",
       " 'eurofolk',\n",
       " 'stonerrock',\n",
       " 'industrial',\n",
       " 'funk',\n",
       " 'jpop',\n",
       " 'middle',\n",
       " 'variété',\n",
       " 'other',\n",
       " 'adult',\n",
       " 'christian',\n",
       " 'gothic',\n",
       " 'international',\n",
       " 'muslim',\n",
       " 'relax',\n",
       " 'schlager',\n",
       " 'caribbean',\n",
       " 'ukrrock',\n",
       " 'nu',\n",
       " 'breakbeat',\n",
       " 'comedy',\n",
       " 'chill',\n",
       " 'newage',\n",
       " 'specialty',\n",
       " 'uzbek',\n",
       " 'k-pop',\n",
       " 'balkan',\n",
       " 'chinese',\n",
       " 'meditative',\n",
       " 'dub',\n",
       " 'power',\n",
       " 'death',\n",
       " 'grime',\n",
       " 'arabesk',\n",
       " 'romance',\n",
       " 'flamenco',\n",
       " 'leftfield',\n",
       " 'european',\n",
       " 'tech',\n",
       " 'newwave',\n",
       " 'dancehall',\n",
       " 'mpb',\n",
       " 'piano',\n",
       " 'top',\n",
       " 'bigroom',\n",
       " 'opera',\n",
       " 'celtic',\n",
       " 'tradjazz',\n",
       " 'acoustic',\n",
       " 'epicmetal',\n",
       " 'hip-hop',\n",
       " 'historisch',\n",
       " 'downbeat',\n",
       " 'downtempo',\n",
       " 'africa',\n",
       " 'audiobook',\n",
       " 'jewish',\n",
       " 'sängerportrait',\n",
       " 'deutschrock',\n",
       " 'eastern',\n",
       " 'action',\n",
       " 'future',\n",
       " 'electropop',\n",
       " 'folklore',\n",
       " 'bollywood',\n",
       " 'marschmusik',\n",
       " 'rnr',\n",
       " 'karaoke',\n",
       " 'indian',\n",
       " 'rancheras',\n",
       " 'afrikaans',\n",
       " 'tango',\n",
       " 'rhythm',\n",
       " 'sound',\n",
       " 'deutschspr',\n",
       " 'trip',\n",
       " 'lovers',\n",
       " 'choral',\n",
       " 'dancepop',\n",
       " 'podcasts',\n",
       " 'retro',\n",
       " 'smooth',\n",
       " 'mexican',\n",
       " 'brazilian',\n",
       " 'ïîï',\n",
       " 'mood',\n",
       " 'surf',\n",
       " 'author',\n",
       " 'gangsta',\n",
       " 'triphop',\n",
       " 'inspirational',\n",
       " 'idm',\n",
       " 'ethnic',\n",
       " 'bluegrass',\n",
       " 'broadway',\n",
       " 'animated',\n",
       " 'americana',\n",
       " 'karadeniz',\n",
       " 'rockabilly',\n",
       " 'colombian',\n",
       " 'self',\n",
       " 'hop',\n",
       " 'synthrock',\n",
       " 'sertanejo',\n",
       " 'japanese',\n",
       " 'canzone',\n",
       " 'swing',\n",
       " 'lounge',\n",
       " 'sport',\n",
       " 'korean',\n",
       " 'ragga',\n",
       " 'traditional',\n",
       " 'gitarre',\n",
       " 'frankreich',\n",
       " 'alternativepunk',\n",
       " 'emo',\n",
       " 'laiko',\n",
       " 'cantopop',\n",
       " 'glitch',\n",
       " 'documentary',\n",
       " 'rockalternative',\n",
       " 'thrash',\n",
       " 'hymn',\n",
       " 'oceania',\n",
       " 'rockother',\n",
       " 'popeurodance',\n",
       " 'dark',\n",
       " 'vi',\n",
       " 'grunge',\n",
       " 'hardstyle',\n",
       " 'samba',\n",
       " 'garage',\n",
       " 'soft',\n",
       " 'art',\n",
       " 'folktronica',\n",
       " 'entehno',\n",
       " 'mediterranean',\n",
       " 'chamber',\n",
       " 'cuban',\n",
       " 'taraftar',\n",
       " 'rockindie',\n",
       " 'gypsy',\n",
       " 'hardtechno',\n",
       " 'shoegazing',\n",
       " 'skarock',\n",
       " 'bossa',\n",
       " 'salsa',\n",
       " 'latino',\n",
       " 'worldbeat',\n",
       " 'malaysian',\n",
       " 'baile',\n",
       " 'ghazal',\n",
       " 'loungeelectronic',\n",
       " 'arabic',\n",
       " 'popelectronic',\n",
       " 'acid',\n",
       " 'kayokyoku',\n",
       " 'neoklassik',\n",
       " 'tribal',\n",
       " 'tanzorchester',\n",
       " 'native',\n",
       " 'independent',\n",
       " 'cantautori',\n",
       " 'handsup',\n",
       " 'poprussian',\n",
       " 'punjabi',\n",
       " 'synthpop',\n",
       " 'rave',\n",
       " 'französisch',\n",
       " 'quebecois',\n",
       " 'speech',\n",
       " 'soulful',\n",
       " 'teen',\n",
       " 'jam',\n",
       " 'ram',\n",
       " 'horror',\n",
       " 'scenic',\n",
       " 'orchestral',\n",
       " 'neue',\n",
       " 'roots',\n",
       " 'slow',\n",
       " 'jungle',\n",
       " 'indipop',\n",
       " 'axé',\n",
       " 'fado',\n",
       " 'showtunes',\n",
       " 'arena',\n",
       " 'irish',\n",
       " 'mandopop',\n",
       " 'forró',\n",
       " 'popdance',\n",
       " 'dirty',\n",
       " 'regional']"
      ]
     },
     "execution_count": 75,
     "metadata": {},
     "output_type": "execute_result"
    }
   ],
   "source": [
    "# <сохранение в переменной genres_list списка уникальных значений, \n",
    "# выявленных специальным методом в столбце 'genre_name'>\n",
    "genres_list = df['genre_name'].unique().tolist()\n",
    "genres_list"
   ]
  },
  {
   "cell_type": "code",
   "execution_count": 78,
   "metadata": {},
   "outputs": [],
   "source": [
    "# <создание функции find_genre()>\n",
    "# функция принимает как параметр строку с названием искомого жанра\n",
    "# в теле объявляется переменная-счётчик, ей присваивается значение 0,\n",
    "# затем цикл for проходит по списку уникальных значений\n",
    "# если очередной элемент списка равен параметру функции, \n",
    "# то значение счётчика увеличивается на 1\n",
    "# по окончании работы цикла функция возвращает значение счётчика\n",
    "def find_genre(genre):\n",
    "    k = 0\n",
    "    for i in genres_list:\n",
    "        if i == genre:\n",
    "            k+=1\n",
    "    print(f\"Счётсчик: {k}\")\n",
    "genre = input(\"Введите название жанра: \")\n"
   ]
  },
  {
   "cell_type": "markdown",
   "metadata": {},
   "source": [
    "Вызов функции find_genre() для поиска различных вариантов названия жанра хип-хоп в таблице.\n",
    "\n",
    "Правильное название — hiphop. Поищем другие варианты:\n",
    "\n",
    "•\thip\n",
    "\n",
    "•\thop\n",
    "\n",
    "•\thip-hop\n"
   ]
  },
  {
   "cell_type": "code",
   "execution_count": 79,
   "metadata": {},
   "outputs": [
    {
     "name": "stdout",
     "output_type": "stream",
     "text": [
      "Счётсчик: 1\n"
     ]
    }
   ],
   "source": [
    "# <вызовом функции find_genre() проверяется наличие варианта 'hip'>\n",
    "def find_genre(genre=\"hip\"):\n",
    "    k = 0\n",
    "    for i in genres_list:\n",
    "        if i == genre:\n",
    "            k+=1\n",
    "    print(f\"Счётсчик: {k}\")\n",
    "find_genre()"
   ]
  },
  {
   "cell_type": "code",
   "execution_count": 80,
   "metadata": {},
   "outputs": [
    {
     "name": "stdout",
     "output_type": "stream",
     "text": [
      "Счётсчик: 1\n"
     ]
    }
   ],
   "source": [
    "# <проверяется наличие варианта 'hop'>\n",
    "def find_genre(genre=\"hop\"):\n",
    "    k = 0\n",
    "    for i in genres_list:\n",
    "        if i == genre:\n",
    "            k+=1\n",
    "    print(f\"Счётсчик: {k}\")\n",
    "find_genre()"
   ]
  },
  {
   "cell_type": "code",
   "execution_count": 81,
   "metadata": {},
   "outputs": [
    {
     "name": "stdout",
     "output_type": "stream",
     "text": [
      "Счётсчик: 1\n"
     ]
    }
   ],
   "source": [
    "# <проверяется наличие варианта 'hip-hop'>\n",
    "def find_genre(genre=\"hip-hop\"):\n",
    "    k = 0\n",
    "    for i in genres_list:\n",
    "        if i == genre:\n",
    "            k+=1\n",
    "    print(f\"Счётсчик: {k}\")\n",
    "find_genre()"
   ]
  },
  {
   "cell_type": "markdown",
   "metadata": {},
   "source": [
    "Объявим функцию find_hip_hop(), которая заменяет неправильное название этого жанра в столбце 'genre_name' на 'hiphop' и проверяет успешность выполнения замены.\n",
    "\n",
    "Так исправляем все варианты написания, которые выявила проверка.\n"
   ]
  },
  {
   "cell_type": "code",
   "execution_count": 82,
   "metadata": {},
   "outputs": [
    {
     "name": "stdout",
     "output_type": "stream",
     "text": [
      "0              rock\n",
      "1              rock\n",
      "2               pop\n",
      "3              folk\n",
      "4             dance\n",
      "            ...    \n",
      "61248           rnb\n",
      "61249           hip\n",
      "61250    industrial\n",
      "61251          rock\n",
      "61252       country\n",
      "Name: genre_name, Length: 61253, dtype: object\n"
     ]
    },
    {
     "data": {
      "text/plain": [
       "79"
      ]
     },
     "execution_count": 82,
     "metadata": {},
     "output_type": "execute_result"
    }
   ],
   "source": [
    "# <создание функции find_hip_hop()>\n",
    "# функция принимает как параметры таблицу df и неверное название\n",
    "# к столбцу 'genre_name' применяется специальный метод, \n",
    "# который заменяет второй параметр на строку 'hiphop'\n",
    "# результат работы равен подсчитанному методом count() числу\n",
    "#значений столбца, \n",
    "# которые равны второму параметру\n",
    "# функция возвращает результат\n",
    "print(df[\"genre_name\"])\n",
    "def find_hip_hop(df, wrong_name):\n",
    "    df['genre_name'] = df['genre_name'].replace(wrong_name, 'hiphop')\n",
    "    return df['genre_name'].value_counts()['hiphop']\n",
    "find_hip_hop(df,\"privet\")\n",
    "\n"
   ]
  },
  {
   "cell_type": "code",
   "execution_count": 83,
   "metadata": {},
   "outputs": [
    {
     "name": "stdout",
     "output_type": "stream",
     "text": [
      "0              rock\n",
      "1              rock\n",
      "2               pop\n",
      "3              folk\n",
      "4             dance\n",
      "            ...    \n",
      "61248           rnb\n",
      "61249           hip\n",
      "61250    industrial\n",
      "61251          rock\n",
      "61252       country\n",
      "Name: genre_name, Length: 61253, dtype: object\n"
     ]
    },
    {
     "data": {
      "text/plain": [
       "79"
      ]
     },
     "execution_count": 83,
     "metadata": {},
     "output_type": "execute_result"
    }
   ],
   "source": [
    "# <замена одного неверного варианта на hiphop вызовом функции find_hip_hop()>\n",
    "print(df[\"genre_name\"])\n",
    "def find_hip_hop(df, wrong_name):\n",
    "    df['genre_name'] = df['genre_name'].replace(wrong_name, 'hiphop')\n",
    "    return df['genre_name'].value_counts()['hiphop']\n",
    "find_hip_hop(df,\"privet\")"
   ]
  },
  {
   "cell_type": "markdown",
   "metadata": {},
   "source": [
    "Получаем общую информацию о данных. Убеждаемся, что чистка выполнена успешно."
   ]
  },
  {
   "cell_type": "code",
   "execution_count": 87,
   "metadata": {},
   "outputs": [
    {
     "data": {
      "text/html": [
       "<div>\n",
       "<style scoped>\n",
       "    .dataframe tbody tr th:only-of-type {\n",
       "        vertical-align: middle;\n",
       "    }\n",
       "\n",
       "    .dataframe tbody tr th {\n",
       "        vertical-align: top;\n",
       "    }\n",
       "\n",
       "    .dataframe thead th {\n",
       "        text-align: right;\n",
       "    }\n",
       "</style>\n",
       "<table border=\"1\" class=\"dataframe\">\n",
       "  <thead>\n",
       "    <tr style=\"text-align: right;\">\n",
       "      <th></th>\n",
       "      <th>user_id</th>\n",
       "      <th>track_name</th>\n",
       "      <th>artist_name</th>\n",
       "      <th>genre_name</th>\n",
       "      <th>total_play_seconds</th>\n",
       "      <th>time</th>\n",
       "      <th>day</th>\n",
       "    </tr>\n",
       "  </thead>\n",
       "  <tbody>\n",
       "    <tr>\n",
       "      <th>0</th>\n",
       "      <td>FFB692EC</td>\n",
       "      <td>Kamigata To Boots</td>\n",
       "      <td>The Mass Missile</td>\n",
       "      <td>rock</td>\n",
       "      <td>Saint-Petersburg</td>\n",
       "      <td>20:28:33</td>\n",
       "      <td>Wednesday</td>\n",
       "    </tr>\n",
       "    <tr>\n",
       "      <th>1</th>\n",
       "      <td>55204538</td>\n",
       "      <td>Delayed Because of Accident</td>\n",
       "      <td>Andreas Rönnberg</td>\n",
       "      <td>rock</td>\n",
       "      <td>Moscow</td>\n",
       "      <td>14:07:09</td>\n",
       "      <td>Friday</td>\n",
       "    </tr>\n",
       "    <tr>\n",
       "      <th>2</th>\n",
       "      <td>20EC38</td>\n",
       "      <td>Funiculì funiculà</td>\n",
       "      <td>Mario Lanza</td>\n",
       "      <td>pop</td>\n",
       "      <td>Saint-Petersburg</td>\n",
       "      <td>20:58:07</td>\n",
       "      <td>Wednesday</td>\n",
       "    </tr>\n",
       "    <tr>\n",
       "      <th>3</th>\n",
       "      <td>A3DD03C9</td>\n",
       "      <td>Dragons in the Sunset</td>\n",
       "      <td>Fire + Ice</td>\n",
       "      <td>folk</td>\n",
       "      <td>Saint-Petersburg</td>\n",
       "      <td>08:37:09</td>\n",
       "      <td>Monday</td>\n",
       "    </tr>\n",
       "    <tr>\n",
       "      <th>4</th>\n",
       "      <td>E2DC1FAE</td>\n",
       "      <td>Soul People</td>\n",
       "      <td>Space Echo</td>\n",
       "      <td>dance</td>\n",
       "      <td>Moscow</td>\n",
       "      <td>08:34:34</td>\n",
       "      <td>Monday</td>\n",
       "    </tr>\n",
       "    <tr>\n",
       "      <th>...</th>\n",
       "      <td>...</td>\n",
       "      <td>...</td>\n",
       "      <td>...</td>\n",
       "      <td>...</td>\n",
       "      <td>...</td>\n",
       "      <td>...</td>\n",
       "      <td>...</td>\n",
       "    </tr>\n",
       "    <tr>\n",
       "      <th>61248</th>\n",
       "      <td>729CBB09</td>\n",
       "      <td>My Name</td>\n",
       "      <td>McLean</td>\n",
       "      <td>rnb</td>\n",
       "      <td>Moscow</td>\n",
       "      <td>13:32:28</td>\n",
       "      <td>Wednesday</td>\n",
       "    </tr>\n",
       "    <tr>\n",
       "      <th>61249</th>\n",
       "      <td>D08D4A55</td>\n",
       "      <td>Maybe One Day (feat. Black Spade)</td>\n",
       "      <td>Blu &amp; Exile</td>\n",
       "      <td>hip</td>\n",
       "      <td>Saint-Petersburg</td>\n",
       "      <td>10:00:00</td>\n",
       "      <td>Monday</td>\n",
       "    </tr>\n",
       "    <tr>\n",
       "      <th>61250</th>\n",
       "      <td>C5E3A0D5</td>\n",
       "      <td>Jalopiina</td>\n",
       "      <td>unknown</td>\n",
       "      <td>industrial</td>\n",
       "      <td>Moscow</td>\n",
       "      <td>20:09:26</td>\n",
       "      <td>Friday</td>\n",
       "    </tr>\n",
       "    <tr>\n",
       "      <th>61251</th>\n",
       "      <td>321D0506</td>\n",
       "      <td>Freight Train</td>\n",
       "      <td>Chas McDevitt</td>\n",
       "      <td>rock</td>\n",
       "      <td>Moscow</td>\n",
       "      <td>21:43:59</td>\n",
       "      <td>Friday</td>\n",
       "    </tr>\n",
       "    <tr>\n",
       "      <th>61252</th>\n",
       "      <td>3A64EF84</td>\n",
       "      <td>Tell Me Sweet Little Lies</td>\n",
       "      <td>Monica Lopez</td>\n",
       "      <td>country</td>\n",
       "      <td>Moscow</td>\n",
       "      <td>21:59:46</td>\n",
       "      <td>Friday</td>\n",
       "    </tr>\n",
       "  </tbody>\n",
       "</table>\n",
       "<p>61253 rows × 7 columns</p>\n",
       "</div>"
      ],
      "text/plain": [
       "        user_id                         track_name       artist_name  \\\n",
       "0      FFB692EC                  Kamigata To Boots  The Mass Missile   \n",
       "1      55204538        Delayed Because of Accident  Andreas Rönnberg   \n",
       "2        20EC38                  Funiculì funiculà       Mario Lanza   \n",
       "3      A3DD03C9              Dragons in the Sunset        Fire + Ice   \n",
       "4      E2DC1FAE                        Soul People        Space Echo   \n",
       "...         ...                                ...               ...   \n",
       "61248  729CBB09                            My Name            McLean   \n",
       "61249  D08D4A55  Maybe One Day (feat. Black Spade)       Blu & Exile   \n",
       "61250  C5E3A0D5                          Jalopiina           unknown   \n",
       "61251  321D0506                      Freight Train     Chas McDevitt   \n",
       "61252  3A64EF84          Tell Me Sweet Little Lies      Monica Lopez   \n",
       "\n",
       "       genre_name total_play_seconds      time        day  \n",
       "0            rock   Saint-Petersburg  20:28:33  Wednesday  \n",
       "1            rock             Moscow  14:07:09     Friday  \n",
       "2             pop   Saint-Petersburg  20:58:07  Wednesday  \n",
       "3            folk   Saint-Petersburg  08:37:09     Monday  \n",
       "4           dance             Moscow  08:34:34     Monday  \n",
       "...           ...                ...       ...        ...  \n",
       "61248         rnb             Moscow  13:32:28  Wednesday  \n",
       "61249         hip   Saint-Petersburg  10:00:00     Monday  \n",
       "61250  industrial             Moscow  20:09:26     Friday  \n",
       "61251        rock             Moscow  21:43:59     Friday  \n",
       "61252     country             Moscow  21:59:46     Friday  \n",
       "\n",
       "[61253 rows x 7 columns]"
      ]
     },
     "execution_count": 87,
     "metadata": {},
     "output_type": "execute_result"
    }
   ],
   "source": [
    "# <получение общей информации о данных таблицы df>\n",
    "df\n"
   ]
  },
  {
   "cell_type": "markdown",
   "metadata": {},
   "source": [
    "## Вывод\n",
    "\n",
    "На этапе предобработки в данных обнаружились не только пропуски и проблемы с названиями столбцов, но и всяческие виды дубликатов. Их удаление позволит провести анализ точнее. Поскольку сведения о жанрах важно сохранить для анализа, не просто удаляем все пропущенные значения, но заполним пропущенные имена исполнителей и названия треков. Имена столбцов теперь корректны и удобны для дальнейшей работы.\n"
   ]
  },
  {
   "cell_type": "markdown",
   "metadata": {},
   "source": [
    "# Действительно ли музыку в разных городах слушают по-разному?\n",
    "\n",
    "Была выдвинута гипотеза, что в Москве и Санкт-Петербурге пользователи слушают музыку по-разному. Проверяем это предположение по данным о трёх днях недели — понедельнике, среде и пятнице.\n",
    "\n",
    "Для каждого города устанавливаем количество прослушанных в эти дни композиций с известным жанром, и сравниваем результаты.\n",
    "Группируем данные по городу и вызовом метода count() подсчитываем композиции, для которых известен жанр.\n"
   ]
  },
  {
   "cell_type": "code",
   "execution_count": 88,
   "metadata": {},
   "outputs": [
    {
     "name": "stdout",
     "output_type": "stream",
     "text": [
      "  total_play_seconds  genre_name\n",
      "0             Moscow       41892\n",
      "1   Saint-Petersburg       18234\n"
     ]
    }
   ],
   "source": [
    "# <группировка данных таблицы df по столбцу 'city' и подсчёт количества значений столбца 'genre_name'>\n",
    "df_grouped = df.groupby('total_play_seconds')['genre_name'].count().reset_index()\n",
    "print(df_grouped)"
   ]
  },
  {
   "cell_type": "markdown",
   "metadata": {},
   "source": [
    "В *(вставьте название города)* прослушиваний больше, чем в *(вставьте название города)*, но это не значит, что *(вставьте название города)* более активна. У Яндекс.Музыки в целом больше пользователей в Москве, поэтому величины сопоставимы.\n",
    "Сгруппируем данные по дню недели и подсчитаем прослушанные в понедельник, среду и пятницу композиции, для которых известен жанр.\n"
   ]
  },
  {
   "cell_type": "code",
   "execution_count": 89,
   "metadata": {},
   "outputs": [
    {
     "data": {
      "text/plain": [
       "day\n",
       "Friday       21482\n",
       "Monday       20866\n",
       "Wednesday    17778\n",
       "Name: genre_name, dtype: int64"
      ]
     },
     "execution_count": 89,
     "metadata": {},
     "output_type": "execute_result"
    }
   ],
   "source": [
    "# <группировка данных по столбцу 'weekday' и подсчёт количества значений столбца 'genre_name'>\n",
    "df.groupby('day')['genre_name'].count()"
   ]
  },
  {
   "cell_type": "markdown",
   "metadata": {},
   "source": [
    "Понедельник и пятница — время для музыки; по средам пользователи немного больше вовлечены в работу.\n",
    "\n",
    "Создаём функцию number_tracks(), которая принимает как параметры таблицу, день недели и название города, а возвращает количество прослушанных композиций, для которых известен жанр. Проверяем количество прослушанных композиций для каждого города и понедельника, затем среды и пятницы.\n"
   ]
  },
  {
   "cell_type": "code",
   "execution_count": 90,
   "metadata": {},
   "outputs": [
    {
     "data": {
      "text/plain": [
       "15680"
      ]
     },
     "execution_count": 90,
     "metadata": {},
     "output_type": "execute_result"
    }
   ],
   "source": [
    "# <создание функции number_tracks()>\n",
    "# объявляется функция с тремя параметрами: df, day, city\n",
    "# в переменной track_list сохраняются те строки таблицы df, для которых \n",
    "# значение в столбце 'weekday' равно параметру day\n",
    "# и одновременно значение в столбце 'city' равно параметру city\n",
    "# в переменной track_list_count сохраняется число значений столбца 'genre_name',\n",
    "# рассчитанное методом count() для таблицы track_list\n",
    "# функция возвращает значение track_list_count\n",
    "def number_tracks(df, day, city):\n",
    "    track_list = df[(df['day'] == day) & (df['total_play_seconds'] ==city)]\n",
    "    track_list_count = track_list['genre_name'].count()\n",
    "    return track_list_count\n",
    "number_tracks(df,\"Friday\",\"Moscow\")\n"
   ]
  },
  {
   "cell_type": "code",
   "execution_count": 91,
   "metadata": {},
   "outputs": [
    {
     "name": "stdout",
     "output_type": "stream",
     "text": [
      "15347\n"
     ]
    }
   ],
   "source": [
    "# <список композиций для Москвы в понедельник>\n",
    "result1 = number_tracks(df,\"Monday\",\"Moscow\")\n",
    "print(result1)"
   ]
  },
  {
   "cell_type": "code",
   "execution_count": 92,
   "metadata": {},
   "outputs": [
    {
     "name": "stdout",
     "output_type": "stream",
     "text": [
      "5519\n"
     ]
    }
   ],
   "source": [
    "# <список композиций для Санкт-Петербурга в понедельник>\n",
    "result2 = number_tracks(df,\"Monday\",\"Saint-Petersburg\")\n",
    "print(result2)"
   ]
  },
  {
   "cell_type": "code",
   "execution_count": 93,
   "metadata": {},
   "outputs": [
    {
     "name": "stdout",
     "output_type": "stream",
     "text": [
      "10865\n"
     ]
    }
   ],
   "source": [
    "# <список композиций для Москвы в среду>\n",
    "result3 = number_tracks(df,\"Wednesday\",\"Moscow\")\n",
    "print(result3)"
   ]
  },
  {
   "cell_type": "code",
   "execution_count": 94,
   "metadata": {},
   "outputs": [
    {
     "name": "stdout",
     "output_type": "stream",
     "text": [
      "6913\n"
     ]
    }
   ],
   "source": [
    "# <список композиций для Санкт-Петербурга в среду>\n",
    "result4 = number_tracks(df,\"Wednesday\",\"Saint-Petersburg\")\n",
    "print(result4)"
   ]
  },
  {
   "cell_type": "code",
   "execution_count": 95,
   "metadata": {},
   "outputs": [
    {
     "name": "stdout",
     "output_type": "stream",
     "text": [
      "15680\n"
     ]
    }
   ],
   "source": [
    "# <список композиций для Москвы в пятницу>\n",
    "result5 = number_tracks(df,\"Friday\",\"Moscow\")\n",
    "print(result5)"
   ]
  },
  {
   "cell_type": "code",
   "execution_count": 96,
   "metadata": {},
   "outputs": [
    {
     "name": "stdout",
     "output_type": "stream",
     "text": [
      "5802\n"
     ]
    }
   ],
   "source": [
    "# <список композиций для Санкт-Петербурга в пятницу>\n",
    "result6 = number_tracks(df,\"Friday\",\"Saint-Petersburg\")\n",
    "print(result6)"
   ]
  },
  {
   "cell_type": "markdown",
   "metadata": {},
   "source": [
    "Сведём полученную информацию в одну таблицу, где ['city', 'monday', 'wednesday', 'friday'] названия столбцов."
   ]
  },
  {
   "cell_type": "code",
   "execution_count": 97,
   "metadata": {},
   "outputs": [
    {
     "data": {
      "text/html": [
       "<div>\n",
       "<style scoped>\n",
       "    .dataframe tbody tr th:only-of-type {\n",
       "        vertical-align: middle;\n",
       "    }\n",
       "\n",
       "    .dataframe tbody tr th {\n",
       "        vertical-align: top;\n",
       "    }\n",
       "\n",
       "    .dataframe thead th {\n",
       "        text-align: right;\n",
       "    }\n",
       "</style>\n",
       "<table border=\"1\" class=\"dataframe\">\n",
       "  <thead>\n",
       "    <tr style=\"text-align: right;\">\n",
       "      <th></th>\n",
       "      <th>city</th>\n",
       "      <th>monday</th>\n",
       "      <th>wednesday</th>\n",
       "      <th>friday</th>\n",
       "    </tr>\n",
       "  </thead>\n",
       "  <tbody>\n",
       "    <tr>\n",
       "      <th>0</th>\n",
       "      <td>Moscow</td>\n",
       "      <td>15347</td>\n",
       "      <td>10865</td>\n",
       "      <td>15680</td>\n",
       "    </tr>\n",
       "    <tr>\n",
       "      <th>1</th>\n",
       "      <td>Saint-Petersburg</td>\n",
       "      <td>5519</td>\n",
       "      <td>6913</td>\n",
       "      <td>5802</td>\n",
       "    </tr>\n",
       "  </tbody>\n",
       "</table>\n",
       "</div>"
      ],
      "text/plain": [
       "               city  monday  wednesday  friday\n",
       "0            Moscow   15347      10865   15680\n",
       "1  Saint-Petersburg    5519       6913    5802"
      ]
     },
     "execution_count": 97,
     "metadata": {},
     "output_type": "execute_result"
    }
   ],
   "source": [
    "# <таблица с полученными данными>\n",
    "inf = [\n",
    "    ['Moscow', result1, result3, result5],\n",
    "    ['Saint-Petersburg', result2, result4, result6]\n",
    "]\n",
    "\n",
    "columns = ['city', 'monday', 'wednesday', 'friday']\n",
    "df1 = pd.DataFrame(data=inf, columns=columns)\n",
    "df1"
   ]
  },
  {
   "cell_type": "markdown",
   "metadata": {},
   "source": [
    "## Вывод\n",
    "\n",
    "*Запишите здесь ваши выводы.Опишите закономерности, которые вы наблюдаете по дням недели и городам*"
   ]
  },
  {
   "cell_type": "markdown",
   "metadata": {},
   "source": [
    "# Утро понедельника и вечер пятницы — разная музыка или одна и та же?\n",
    "\n",
    "Ищем ответ на вопрос, какие жанры преобладают в разных городах в понедельник утром и в пятницу вечером. Есть предположение, что в понедельник утром пользователи слушают больше бодрящей музыки (например, жанра поп), а вечером пятницы — больше танцевальных (например, электронику).\n",
    "Получим таблицы данных по Москве moscow_general и по Санкт-Петербургу spb_general.\n"
   ]
  },
  {
   "cell_type": "code",
   "execution_count": 109,
   "metadata": {},
   "outputs": [],
   "source": [
    "# получение таблицы moscow_general из тех строк таблицы df, \n",
    "# для которых значение в столбце 'city' равно 'Moscow'\n",
    "# <получение таблицы spb_general>\n",
    "moscow_general = df[df['total_play_seconds'] == 'Moscow']\n",
    "spb_general = df[df['total_play_seconds'] == 'Saint-Petersburg']\n"
   ]
  },
  {
   "cell_type": "markdown",
   "metadata": {},
   "source": [
    "Создаём функцию genre_weekday(), которая возвращает список жанров по запрошенному дню недели и времени суток с такого-то часа по такой-то."
   ]
  },
  {
   "cell_type": "code",
   "execution_count": 108,
   "metadata": {},
   "outputs": [
    {
     "name": "stdout",
     "output_type": "stream",
     "text": [
      "        user_id                         track_name       artist_name  \\\n",
      "0      FFB692EC                  Kamigata To Boots  The Mass Missile   \n",
      "1      55204538        Delayed Because of Accident  Andreas Rönnberg   \n",
      "2        20EC38                  Funiculì funiculà       Mario Lanza   \n",
      "3      A3DD03C9              Dragons in the Sunset        Fire + Ice   \n",
      "4      E2DC1FAE                        Soul People        Space Echo   \n",
      "...         ...                                ...               ...   \n",
      "61248  729CBB09                            My Name            McLean   \n",
      "61249  D08D4A55  Maybe One Day (feat. Black Spade)       Blu & Exile   \n",
      "61250  C5E3A0D5                          Jalopiina           unknown   \n",
      "61251  321D0506                      Freight Train     Chas McDevitt   \n",
      "61252  3A64EF84          Tell Me Sweet Little Lies      Monica Lopez   \n",
      "\n",
      "       genre_name total_play_seconds      time        day  \n",
      "0            rock   Saint-Petersburg  20:28:33  Wednesday  \n",
      "1            rock             Moscow  14:07:09     Friday  \n",
      "2             pop   Saint-Petersburg  20:58:07  Wednesday  \n",
      "3            folk   Saint-Petersburg  08:37:09     Monday  \n",
      "4           dance             Moscow  08:34:34     Monday  \n",
      "...           ...                ...       ...        ...  \n",
      "61248         rnb             Moscow  13:32:28  Wednesday  \n",
      "61249         hip   Saint-Petersburg  10:00:00     Monday  \n",
      "61250  industrial             Moscow  20:09:26     Friday  \n",
      "61251        rock             Moscow  21:43:59     Friday  \n",
      "61252     country             Moscow  21:59:46     Friday  \n",
      "\n",
      "[61253 rows x 7 columns]\n"
     ]
    }
   ],
   "source": [
    "# объявление функции genre_weekday() с параметрами df, day, time1, time2\n",
    "# в переменной genre_list сохраняются те строки df, для которых одновременно:\n",
    "# 1) значение в столбце 'weekday' равно параметру day,\n",
    "# 2) значение в столбце 'time' больше time1 и\n",
    "# 3) меньше time2.\n",
    "# в переменной genre_list_sorted сохраняются в порядке убывания  \n",
    "# первые 10 значений Series, полученной подсчётом числа значений 'genre_name'\n",
    "# сгруппированной по столбцу 'genre_name' таблицы genre_list\n",
    "# функция возвращает значение genre_list_sorted\n",
    "def genre_weekday(df, day, time1, time2):\n",
    "    genre_list = df[(df['day'] == day) & (df['time'] >time1) & (df['time'] < time2)]\n",
    "    genre_list_sorted = genre_list['genre_name'].value_counts(ascending=False).head(10)\n",
    "    return genre_list_sorted\n",
    "print(df)\n"
   ]
  },
  {
   "cell_type": "markdown",
   "metadata": {},
   "source": [
    "Cравниваем полученные результаты по таблице для Москвы и Санкт-Петербурга в понедельник утром (с 7 до 11) и в пятницу вечером (с 17 до 23)."
   ]
  },
  {
   "cell_type": "code",
   "execution_count": 100,
   "metadata": {},
   "outputs": [
    {
     "name": "stdout",
     "output_type": "stream",
     "text": [
      "Популярные жанры в Санкт-Петербурге в понедельник утром:\n",
      " genre_name\n",
      "pop            781\n",
      "dance          549\n",
      "electronic     480\n",
      "rock           474\n",
      "hip            281\n",
      "ruspop         186\n",
      "world          181\n",
      "rusrap         175\n",
      "alternative    164\n",
      "classical      157\n",
      "Name: count, dtype: int64\n"
     ]
    }
   ],
   "source": [
    "# <вызов функции для утра понедельника в Москве (вместо df таблица moscow_general)>\n",
    "# Утро понедельника в Санкт-Петербурге (с 7 до 11)\n",
    "spb_monday_morning = genre_weekday(moscow_general, 'Monday', '07:00', '11:00')\n",
    "print(\"Популярные жанры в Санкт-Петербурге в понедельник утром:\\n\", spb_monday_morning)\n"
   ]
  },
  {
   "cell_type": "code",
   "execution_count": 101,
   "metadata": {},
   "outputs": [
    {
     "name": "stdout",
     "output_type": "stream",
     "text": [
      "Популярные жанры в Санкт-Петербурге в понедельник утром:\n",
      " genre_name\n",
      "pop            218\n",
      "dance          182\n",
      "rock           162\n",
      "electronic     147\n",
      "hip             79\n",
      "ruspop          64\n",
      "alternative     58\n",
      "rusrap          55\n",
      "jazz            44\n",
      "classical       40\n",
      "Name: count, dtype: int64\n"
     ]
    }
   ],
   "source": [
    "# <вызов функции для утра понедельника в Петербурге (вместо df таблица spb_general)>\n",
    "\n",
    "# Утро понедельника в Санкт-Петербурге (с 7 до 11)\n",
    "spb_monday_morning = genre_weekday(spb_general, 'Monday', '07:00', '11:00')\n",
    "print(\"Популярные жанры в Санкт-Петербурге в понедельник утром:\\n\", spb_monday_morning)\n"
   ]
  },
  {
   "cell_type": "code",
   "execution_count": 102,
   "metadata": {},
   "outputs": [
    {
     "name": "stdout",
     "output_type": "stream",
     "text": [
      "Популярные жанры в Москве в пятницу вечером:\n",
      " genre_name\n",
      "pop            713\n",
      "rock           517\n",
      "dance          495\n",
      "electronic     482\n",
      "hip            267\n",
      "world          208\n",
      "ruspop         170\n",
      "alternative    163\n",
      "classical      163\n",
      "rusrap         142\n",
      "Name: count, dtype: int64\n"
     ]
    }
   ],
   "source": [
    "# <вызов функции для вечера пятницы в Москве>\n",
    "\n",
    "# Вечер пятницы в Москве (с 17 до 23)\n",
    "moscow_friday_evening = genre_weekday(moscow_general, 'Friday', '17:00', '23:00')\n",
    "print(\"Популярные жанры в Москве в пятницу вечером:\\n\", moscow_friday_evening)\n"
   ]
  },
  {
   "cell_type": "code",
   "execution_count": 103,
   "metadata": {},
   "outputs": [
    {
     "name": "stdout",
     "output_type": "stream",
     "text": [
      "Популярные жанры в Санкт-Петербурге в пятницу вечером:\n",
      " genre_name\n",
      "pop            256\n",
      "rock           216\n",
      "electronic     216\n",
      "dance          210\n",
      "hip             94\n",
      "alternative     63\n",
      "jazz            61\n",
      "classical       60\n",
      "rusrap          59\n",
      "world           54\n",
      "Name: count, dtype: int64\n"
     ]
    }
   ],
   "source": [
    "# <вызов функции для вечера пятницы в Питере>\n",
    "\n",
    "# Вечер пятницы в Санкт-Петербурге (с 17 до 23)\n",
    "spb_friday_evening = genre_weekday(spb_general, 'Friday', '17:00', '23:00')\n",
    "print(\"Популярные жанры в Санкт-Петербурге в пятницу вечером:\\n\", spb_friday_evening)\n"
   ]
  },
  {
   "cell_type": "markdown",
   "metadata": {},
   "source": [
    "Популярные жанры в понедельник утром в Питере и Москве оказались похожи: везде, как и предполагалось, популярен *(вставьте сюда название жанра)*. Несмотря на это, концовка топ-10 для двух городов различается: в Питере в топ-10 входит джаз и русский рэп, а в Москве жанр world.\n",
    "\n",
    "*(Опишите здесь, меняется ли ситуация в музыкальными предпочтениями в конце недели, заметна ли разница в концовке ТОП-10)*\n",
    "\n",
    "## Вывод\n",
    "Жанр *(вставьте сюда название жанра)* безусловный лидер, а топ-5 в целом не различается в обеих столицах. При этом видно, что концовка списка более «живая»: для каждого города выделяются более характерные жанры, которые действительно меняют свои позиции в зависимости от дня недели и времени.\n"
   ]
  },
  {
   "cell_type": "markdown",
   "metadata": {},
   "source": [
    "# Москва и Питер — две разные столицы, два разных направления в музыке. Правда?\n",
    "\n",
    "Гипотеза: Питер богат своей рэп-культурой, поэтому это направление там слушают чаще, а Москва — город контрастов, но основная масса пользователей слушает попсу.\n",
    "\n",
    "Сгруппируем таблицу moscow_general по жанру, сосчитаем численность композиций каждого жанра методом count(), отсортируем в порядке убывания и сохраним результат в таблице moscow_genres.\n",
    "\n",
    "Просмотрим первые 10 строк этой новой таблицы.\n"
   ]
  },
  {
   "cell_type": "code",
   "execution_count": 104,
   "metadata": {},
   "outputs": [],
   "source": [
    "# одной строкой: группировка таблицы moscow_general по столбцу 'genre_name',\n",
    "# подсчёт числа значений 'genre_name' в этой группировке методом count(),\n",
    "# сортировка Series в порядке убывания и сохранение в moscow_genres\n",
    "moscow_genres = moscow_general.groupby('genre_name').size().reset_index(name='count')\n",
    "\n",
    "moscow_genres = moscow_genres.sort_values(by='count', ascending=False)\n"
   ]
  },
  {
   "cell_type": "code",
   "execution_count": 1,
   "metadata": {},
   "outputs": [
    {
     "ename": "NameError",
     "evalue": "name 'moscow_genres' is not defined",
     "output_type": "error",
     "traceback": [
      "\u001b[1;31m---------------------------------------------------------------------------\u001b[0m",
      "\u001b[1;31mNameError\u001b[0m                                 Traceback (most recent call last)",
      "Cell \u001b[1;32mIn[1], line 2\u001b[0m\n\u001b[0;32m      1\u001b[0m \u001b[38;5;66;03m# <просмотр первых 10 строк moscow_genres>\u001b[39;00m\n\u001b[1;32m----> 2\u001b[0m \u001b[38;5;28mprint\u001b[39m(\u001b[43mmoscow_genres\u001b[49m\u001b[38;5;241m.\u001b[39mhead(\u001b[38;5;241m10\u001b[39m))\n",
      "\u001b[1;31mNameError\u001b[0m: name 'moscow_genres' is not defined"
     ]
    }
   ],
   "source": [
    "# <просмотр первых 10 строк moscow_genres>\n",
    "print(moscow_genres.head(10))\n"
   ]
  },
  {
   "cell_type": "markdown",
   "metadata": {},
   "source": [
    "Сгруппируем таблицу spb_general по жанру, сосчитаем численность композиций каждого жанра методом count(), отсортируем в порядке убывания и сохраним результат в таблице spb_genres.\n",
    "\n",
    "Просматриваем первые 10 строк этой таблицы. Теперь можно сравнивать два города.\n"
   ]
  },
  {
   "cell_type": "code",
   "execution_count": 106,
   "metadata": {},
   "outputs": [],
   "source": [
    "# <группировка таблицы spb_general, расчёт, сохранение в spb_genres>\n",
    "# Группировка таблицы spb_general по столбцу 'genre_name'\n",
    "spb_genres = spb_general.groupby('genre_name').size().reset_index(name='count')\n",
    "spb_genres = spb_genres.sort_values(by='count', ascending=False)\n"
   ]
  },
  {
   "cell_type": "code",
   "execution_count": 107,
   "metadata": {},
   "outputs": [
    {
     "name": "stdout",
     "output_type": "stream",
     "text": [
      "      genre_name  count\n",
      "141          pop   2431\n",
      "43         dance   1932\n",
      "163         rock   1879\n",
      "58    electronic   1737\n",
      "93           hip    934\n",
      "3    alternative    649\n",
      "35     classical    646\n",
      "168       rusrap    564\n",
      "167       ruspop    538\n",
      "208        world    515\n"
     ]
    }
   ],
   "source": [
    "# <просмотр первых 10 строк spb_genres>\n",
    "print(spb_genres.head(10))\n"
   ]
  },
  {
   "cell_type": "markdown",
   "metadata": {},
   "source": [
    "## Вывод\n",
    "В Москве, кроме абсолютно популярного жанра поп, есть направление русской популярной музыки. Значит, что интерес к этому жанру шире. А рэп, вопреки предположению, занимает в обоих городах близкие позиции.\n"
   ]
  },
  {
   "cell_type": "markdown",
   "metadata": {},
   "source": [
    "# Результаты исследования\n",
    "\n",
    "Рабочие гипотезы:\n",
    "\n",
    "•\tмузыку в двух городах — Москве и Санкт-Петербурге — слушают в разном режиме;\n",
    "\n",
    "•\tсписки десяти самых популярных жанров утром в понедельник и вечером в пятницу имеют характерные отличия;\n",
    "\n",
    "•\tнаселение двух городов предпочитает разные музыкальные жанры.\n",
    "\n",
    "**Общие результаты**\n",
    "\n",
    "Москва и Петербург сходятся во вкусах: везде преобладает популярная музыка. При этом зависимости предпочтений от дня недели в каждом отдельном городе нет — люди постоянно слушают то, что им нравится. Но между городами в разрезе дней неделей наблюдается зеркальность относительно среды: Москва больше слушает в понедельник и пятницу, а Петербург наоборот - больше в среду, но меньше в понедельник и пятницу.\n",
    "В результате первая гипотеза *подтверждена / не подтверждена*, вторая гипотеза *подтверждена / не подтверждена* и третья не подтверждена >.*подтверждена / не подтверждена*\n"
   ]
  },
  {
   "cell_type": "code",
   "execution_count": null,
   "metadata": {},
   "outputs": [],
   "source": []
  },
  {
   "cell_type": "code",
   "execution_count": null,
   "metadata": {},
   "outputs": [],
   "source": []
  }
 ],
 "metadata": {
  "kernelspec": {
   "display_name": "Python 3 (ipykernel)",
   "language": "python",
   "name": "python3"
  },
  "language_info": {
   "codemirror_mode": {
    "name": "ipython",
    "version": 3
   },
   "file_extension": ".py",
   "mimetype": "text/x-python",
   "name": "python",
   "nbconvert_exporter": "python",
   "pygments_lexer": "ipython3",
   "version": "3.12.2"
  }
 },
 "nbformat": 4,
 "nbformat_minor": 4
}
